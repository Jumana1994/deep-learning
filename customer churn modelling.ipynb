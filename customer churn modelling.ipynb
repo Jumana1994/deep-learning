{
 "cells": [
  {
   "cell_type": "code",
   "execution_count": 2,
   "id": "6f340192-640c-4714-b4ae-5f5aefa32ea2",
   "metadata": {},
   "outputs": [
    {
     "name": "stdout",
     "output_type": "stream",
     "text": [
      "Epoch 1/31\n",
      "113/113 [==============================] - 3s 10ms/step - loss: 76905.6562 - accuracy: 0.6730 - val_loss: 33458.0195 - val_accuracy: 0.7903\n",
      "Epoch 2/31\n",
      "113/113 [==============================] - 0s 4ms/step - loss: 51270.3359 - accuracy: 0.6829 - val_loss: 7788.9419 - val_accuracy: 0.7903\n",
      "Epoch 3/31\n",
      "113/113 [==============================] - 1s 4ms/step - loss: 19410.9941 - accuracy: 0.6844 - val_loss: 40195.9141 - val_accuracy: 0.2097\n",
      "Epoch 4/31\n",
      "113/113 [==============================] - 0s 4ms/step - loss: 52577.8320 - accuracy: 0.6753 - val_loss: 47433.0039 - val_accuracy: 0.7903\n",
      "Epoch 5/31\n",
      "113/113 [==============================] - 0s 4ms/step - loss: 32896.6641 - accuracy: 0.6777 - val_loss: 27021.4082 - val_accuracy: 0.7903\n",
      "Epoch 6/31\n",
      "113/113 [==============================] - 0s 4ms/step - loss: 30507.3145 - accuracy: 0.6790 - val_loss: 48415.7969 - val_accuracy: 0.7903\n",
      "Epoch 7/31\n",
      "113/113 [==============================] - 0s 4ms/step - loss: 16979.9414 - accuracy: 0.6834 - val_loss: 12640.2383 - val_accuracy: 0.7903\n",
      "Epoch 8/31\n",
      "113/113 [==============================] - 0s 4ms/step - loss: 31685.2656 - accuracy: 0.6914 - val_loss: 33195.6094 - val_accuracy: 0.7903\n",
      "Epoch 9/31\n",
      "113/113 [==============================] - 0s 4ms/step - loss: 39523.2812 - accuracy: 0.6790 - val_loss: 25166.0684 - val_accuracy: 0.7903\n",
      "Epoch 10/31\n",
      "113/113 [==============================] - 0s 4ms/step - loss: 41684.0742 - accuracy: 0.6901 - val_loss: 38165.4180 - val_accuracy: 0.7903\n",
      "Epoch 11/31\n",
      "113/113 [==============================] - 1s 4ms/step - loss: 24860.2266 - accuracy: 0.6831 - val_loss: 27844.5488 - val_accuracy: 0.7903\n",
      "Epoch 12/31\n",
      "113/113 [==============================] - 0s 4ms/step - loss: 29236.9316 - accuracy: 0.6759 - val_loss: 3356.0500 - val_accuracy: 0.7473\n",
      "Epoch 13/31\n",
      "113/113 [==============================] - 0s 4ms/step - loss: 17881.4863 - accuracy: 0.6869 - val_loss: 3262.2397 - val_accuracy: 0.5650\n",
      "Epoch 14/31\n",
      "113/113 [==============================] - 0s 4ms/step - loss: 20631.4766 - accuracy: 0.6781 - val_loss: 4131.1318 - val_accuracy: 0.7880\n",
      "Epoch 15/31\n",
      "113/113 [==============================] - 0s 4ms/step - loss: 14487.5322 - accuracy: 0.6956 - val_loss: 17774.3379 - val_accuracy: 0.7903\n",
      "Epoch 16/31\n",
      "113/113 [==============================] - 0s 4ms/step - loss: 13452.9990 - accuracy: 0.6760 - val_loss: 18282.2598 - val_accuracy: 0.7903\n",
      "Epoch 17/31\n",
      "113/113 [==============================] - 0s 4ms/step - loss: 26257.0879 - accuracy: 0.6769 - val_loss: 8318.2402 - val_accuracy: 0.7903\n",
      "Epoch 18/31\n",
      "113/113 [==============================] - 0s 4ms/step - loss: 15600.7646 - accuracy: 0.6846 - val_loss: 23018.9609 - val_accuracy: 0.7903\n",
      "Epoch 19/31\n",
      "113/113 [==============================] - 1s 4ms/step - loss: 16571.7949 - accuracy: 0.6759 - val_loss: 57622.1484 - val_accuracy: 0.7903\n",
      "Epoch 20/31\n",
      "113/113 [==============================] - 0s 4ms/step - loss: 22836.1777 - accuracy: 0.6816 - val_loss: 58743.6602 - val_accuracy: 0.7903\n",
      "Epoch 21/31\n",
      "113/113 [==============================] - 0s 4ms/step - loss: 17315.3516 - accuracy: 0.6863 - val_loss: 2719.4685 - val_accuracy: 0.7823\n",
      "Epoch 22/31\n",
      "113/113 [==============================] - 0s 4ms/step - loss: 18632.2852 - accuracy: 0.6870 - val_loss: 29326.0234 - val_accuracy: 0.7903\n",
      "Epoch 23/31\n",
      "113/113 [==============================] - 0s 4ms/step - loss: 22384.8477 - accuracy: 0.6823 - val_loss: 4579.8306 - val_accuracy: 0.7903\n",
      "Epoch 24/31\n",
      "113/113 [==============================] - 0s 4ms/step - loss: 22266.4336 - accuracy: 0.6874 - val_loss: 3612.5496 - val_accuracy: 0.7913\n",
      "Epoch 25/31\n",
      "113/113 [==============================] - 0s 4ms/step - loss: 28740.2227 - accuracy: 0.6784 - val_loss: 16124.7109 - val_accuracy: 0.7903\n",
      "Epoch 26/31\n",
      "113/113 [==============================] - 0s 4ms/step - loss: 13399.2100 - accuracy: 0.6931 - val_loss: 6999.9907 - val_accuracy: 0.7903\n",
      "Epoch 27/31\n",
      "113/113 [==============================] - 0s 4ms/step - loss: 14010.4639 - accuracy: 0.6796 - val_loss: 5208.7573 - val_accuracy: 0.7903\n",
      "Epoch 28/31\n",
      "113/113 [==============================] - 0s 4ms/step - loss: 14061.0127 - accuracy: 0.6781 - val_loss: 5159.9771 - val_accuracy: 0.7903\n",
      "Epoch 29/31\n",
      "113/113 [==============================] - 1s 4ms/step - loss: 12953.1416 - accuracy: 0.6801 - val_loss: 28960.7363 - val_accuracy: 0.7903\n",
      "Epoch 30/31\n",
      "113/113 [==============================] - 0s 4ms/step - loss: 12142.4697 - accuracy: 0.6867 - val_loss: 12096.6436 - val_accuracy: 0.7903\n",
      "Epoch 31/31\n",
      "113/113 [==============================] - 0s 4ms/step - loss: 9540.6182 - accuracy: 0.6926 - val_loss: 4092.0830 - val_accuracy: 0.4677\n"
     ]
    }
   ],
   "source": [
    "import pandas as pd\n",
    "import numpy as np\n",
    "import sklearn\n",
    "import tensorflow\n",
    "import matplotlib.pyplot as plt\n",
    "from tensorflow.keras.layers import Dense,Flatten\n",
    "from tensorflow.keras.activations import relu,softmax,sigmoid\n",
    "from tensorflow.keras.losses import sparse_categorical_crossentropy,CategoricalCrossentropy\n",
    "from tensorflow.keras.optimizers import Adam\n",
    "from tensorflow.keras import Sequential\n",
    "\n",
    "\n",
    "data=pd.read_csv('Customer_Churn_Modelling.csv')\n",
    "data\n",
    "\n",
    "pd.isnull(data).any()\n",
    "\n",
    "data.drop(['Surname'],axis=1,inplace=True)\n",
    "\n",
    "from sklearn.preprocessing import LabelEncoder\n",
    "le=LabelEncoder()\n",
    "\n",
    "data['Gender']=le.fit_transform(data['Gender'])\n",
    "data['Geography']=le.fit_transform(data['Geography'])\n",
    "\n",
    "le.classes_\n",
    "\n",
    "le.inverse_transform([1,0,2])\n",
    "\n",
    "X=data.drop(['Exited'],axis=1)\n",
    "y=data['Exited']\n",
    "\n",
    "X.iloc[1].shape\n",
    "\n",
    "model=Sequential()\n",
    "model.add(Flatten(input_shape=(12,)))\n",
    "model.add(Dense(150,activation='relu'))\n",
    "model.add(Dense(70,activation='relu'))\n",
    "# model.add(Dense(30,activation='relu'))\n",
    "model.add(Dense(2,activation='sigmoid'))\n",
    "model.compile(optimizer=Adam(),loss=sparse_categorical_crossentropy,metrics=['accuracy'])\n",
    "\n",
    "\n",
    "from sklearn.model_selection import train_test_split\n",
    "xtrain,xtest,ytrain,ytest=train_test_split(X,y,train_size=.7,shuffle=True)\n",
    "\n",
    "xtrain.shape\n",
    "# ytrain.shape\n",
    "\n",
    "d1=model.fit(xtrain,ytrain,epochs=31,verbose=1,validation_data=(xtest,ytest),batch_size=62)"
   ]
  },
  {
   "cell_type": "code",
   "execution_count": 3,
   "id": "7d3531dd-a844-4685-aa8f-8d8f4be9e85f",
   "metadata": {},
   "outputs": [
    {
     "data": {
      "text/plain": [
       "{'loss': [76905.65625,\n",
       "  51270.3359375,\n",
       "  19410.994140625,\n",
       "  52577.83203125,\n",
       "  32896.6640625,\n",
       "  30507.314453125,\n",
       "  16979.94140625,\n",
       "  31685.265625,\n",
       "  39523.28125,\n",
       "  41684.07421875,\n",
       "  24860.2265625,\n",
       "  29236.931640625,\n",
       "  17881.486328125,\n",
       "  20631.4765625,\n",
       "  14487.5322265625,\n",
       "  13452.9990234375,\n",
       "  26257.087890625,\n",
       "  15600.7646484375,\n",
       "  16571.794921875,\n",
       "  22836.177734375,\n",
       "  17315.3515625,\n",
       "  18632.28515625,\n",
       "  22384.84765625,\n",
       "  22266.43359375,\n",
       "  28740.22265625,\n",
       "  13399.2099609375,\n",
       "  14010.4638671875,\n",
       "  14061.0126953125,\n",
       "  12953.1416015625,\n",
       "  12142.4697265625,\n",
       "  9540.6181640625],\n",
       " 'accuracy': [0.6729999780654907,\n",
       "  0.6828571557998657,\n",
       "  0.6844285726547241,\n",
       "  0.6752856969833374,\n",
       "  0.6777142882347107,\n",
       "  0.6790000200271606,\n",
       "  0.6834285855293274,\n",
       "  0.691428542137146,\n",
       "  0.6790000200271606,\n",
       "  0.6901428699493408,\n",
       "  0.6831428408622742,\n",
       "  0.6758571267127991,\n",
       "  0.6868571639060974,\n",
       "  0.6781428456306458,\n",
       "  0.6955714225769043,\n",
       "  0.6759999990463257,\n",
       "  0.6768571138381958,\n",
       "  0.6845714449882507,\n",
       "  0.6758571267127991,\n",
       "  0.6815714240074158,\n",
       "  0.6862857341766357,\n",
       "  0.6869999766349792,\n",
       "  0.682285726070404,\n",
       "  0.6874285936355591,\n",
       "  0.678428590297699,\n",
       "  0.693142831325531,\n",
       "  0.6795714497566223,\n",
       "  0.6781428456306458,\n",
       "  0.680142879486084,\n",
       "  0.6867142915725708,\n",
       "  0.6925714015960693],\n",
       " 'val_loss': [33458.01953125,\n",
       "  7788.94189453125,\n",
       "  40195.9140625,\n",
       "  47433.00390625,\n",
       "  27021.408203125,\n",
       "  48415.796875,\n",
       "  12640.23828125,\n",
       "  33195.609375,\n",
       "  25166.068359375,\n",
       "  38165.41796875,\n",
       "  27844.548828125,\n",
       "  3356.050048828125,\n",
       "  3262.23974609375,\n",
       "  4131.1318359375,\n",
       "  17774.337890625,\n",
       "  18282.259765625,\n",
       "  8318.240234375,\n",
       "  23018.9609375,\n",
       "  57622.1484375,\n",
       "  58743.66015625,\n",
       "  2719.468505859375,\n",
       "  29326.0234375,\n",
       "  4579.83056640625,\n",
       "  3612.549560546875,\n",
       "  16124.7109375,\n",
       "  6999.99072265625,\n",
       "  5208.75732421875,\n",
       "  5159.97705078125,\n",
       "  28960.736328125,\n",
       "  12096.6435546875,\n",
       "  4092.0830078125],\n",
       " 'val_accuracy': [0.7903333306312561,\n",
       "  0.7903333306312561,\n",
       "  0.2096666693687439,\n",
       "  0.7903333306312561,\n",
       "  0.7903333306312561,\n",
       "  0.7903333306312561,\n",
       "  0.7903333306312561,\n",
       "  0.7903333306312561,\n",
       "  0.7903333306312561,\n",
       "  0.7903333306312561,\n",
       "  0.7903333306312561,\n",
       "  0.7473333477973938,\n",
       "  0.5649999976158142,\n",
       "  0.7879999876022339,\n",
       "  0.7903333306312561,\n",
       "  0.7903333306312561,\n",
       "  0.7903333306312561,\n",
       "  0.7903333306312561,\n",
       "  0.7903333306312561,\n",
       "  0.7903333306312561,\n",
       "  0.7823333144187927,\n",
       "  0.7903333306312561,\n",
       "  0.7903333306312561,\n",
       "  0.7913333177566528,\n",
       "  0.7903333306312561,\n",
       "  0.7903333306312561,\n",
       "  0.7903333306312561,\n",
       "  0.7903333306312561,\n",
       "  0.7903333306312561,\n",
       "  0.7903333306312561,\n",
       "  0.4676666557788849]}"
      ]
     },
     "execution_count": 3,
     "metadata": {},
     "output_type": "execute_result"
    }
   ],
   "source": [
    "hist=d1.history\n",
    "hist"
   ]
  },
  {
   "cell_type": "code",
   "execution_count": 4,
   "id": "77519965-1f4e-48e1-93fc-f31fb6332745",
   "metadata": {},
   "outputs": [
    {
     "data": {
      "text/plain": [
       "Text(0.5, 1.0, 'loss graph')"
      ]
     },
     "execution_count": 4,
     "metadata": {},
     "output_type": "execute_result"
    },
    {
     "data": {
      "image/png": "[encoded data removed]",
      "text/plain": [
       "<Figure size 432x288 with 1 Axes>"
      ]
     },
     "metadata": {
      "needs_background": "light"
     },
     "output_type": "display_data"
    }
   ],
   "source": [
    "import matplotlib.pyplot as plt\n",
    "plt.plot(hist['loss'],label='loss',color='b')\n",
    "plt.plot(hist['val_loss'],label='val_loss',color='g')\n",
    "plt.title(\"loss graph\")"
   ]
  },
  {
   "cell_type": "code",
   "execution_count": 5,
   "id": "d3ff4217-3138-4d28-821f-5f2e641a2a44",
   "metadata": {},
   "outputs": [
    {
     "data": {
      "text/plain": [
       "Text(0.5, 1.0, 'accuracy graph')"
      ]
     },
     "execution_count": 5,
     "metadata": {},
     "output_type": "execute_result"
    },
    {
     "data": {
      "image/png": "[encoded data removed]",
      "text/plain": [
       "<Figure size 432x288 with 1 Axes>"
      ]
     },
     "metadata": {
      "needs_background": "light"
     },
     "output_type": "display_data"
    }
   ],
   "source": [
    "plt.plot(hist['accuracy'],label='accuracy',color='b')\n",
    "plt.plot(hist['val_accuracy'],label='val_accuracy',color='g')\n",
    "plt.title(\"accuracy graph\")"
   ]
  },
  {
   "cell_type": "code",
   "execution_count": 6,
   "id": "ff786242-1690-47f8-b2b7-f5c38c8df0fe",
   "metadata": {},
   "outputs": [
    {
     "name": "stdout",
     "output_type": "stream",
     "text": [
      "94/94 [==============================] - 0s 2ms/step\n"
     ]
    }
   ],
   "source": [
    "y_predict=np.argmax(model.predict(xtest), axis=-1)\n",
    "from sklearn.metrics import confusion_matrix"
   ]
  },
  {
   "cell_type": "code",
   "execution_count": 7,
   "id": "4b788680-28f9-43b0-802e-636dfbb9f961",
   "metadata": {},
   "outputs": [],
   "source": [
    "cf=confusion_matrix(ytest,y_predict)"
   ]
  },
  {
   "cell_type": "code",
   "execution_count": 8,
   "id": "3ad87fbb-ee39-4510-896c-efe3196f0900",
   "metadata": {},
   "outputs": [
    {
     "data": {
      "text/plain": [
       "(<Figure size 432x288 with 1 Axes>,\n",
       " <AxesSubplot:xlabel='predicted label', ylabel='true label'>)"
      ]
     },
     "execution_count": 8,
     "metadata": {},
     "output_type": "execute_result"
    },
    {
     "data": {
      "image/png": "[encoded data removed]",
      "text/plain": [
       "<Figure size 432x288 with 1 Axes>"
      ]
     },
     "metadata": {
      "needs_background": "light"
     },
     "output_type": "display_data"
    }
   ],
   "source": [
    "from mlxtend.plotting import plot_confusion_matrix\n",
    "plot_confusion_matrix(cf)"
   ]
  },
  {
   "cell_type": "code",
   "execution_count": null,
   "id": "627b09fe-9abf-4a81-8af1-bd6ddc1c77b1",
   "metadata": {},
   "outputs": [],
   "source": [
    "\n",
    "\n",
    "\n",
    "\n",
    "\n",
    "\n",
    "\n",
    "\n",
    "\n",
    "\n",
    "\n",
    "\n",
    "\n",
    "\n",
    "\n",
    "\n",
    "\n",
    "\n",
    "\n",
    "\n",
    "\n",
    "\n",
    "\n",
    "\n",
    "\n",
    "\n",
    "\n",
    "\n",
    "\n",
    "\n",
    "\n",
    "\n",
    "\n",
    "\n",
    "\n",
    "\n",
    "\n",
    "\n",
    "\n",
    "\n",
    "\n",
    "\n",
    "\n"
   ]
  }
 ],
 "metadata": {
  "kernelspec": {
   "display_name": "Python 3 (ipykernel)",
   "language": "python",
   "name": "python3"
  },
  "language_info": {
   "codemirror_mode": {
    "name": "ipython",
    "version": 3
   },
   "file_extension": ".py",
   "mimetype": "text/x-python",
   "name": "python",
   "nbconvert_exporter": "python",
   "pygments_lexer": "ipython3",
   "version": "3.9.12"
  }
 },
 "nbformat": 4,
 "nbformat_minor": 5
}
