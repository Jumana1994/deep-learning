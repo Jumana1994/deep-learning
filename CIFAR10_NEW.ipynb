{
 "cells": [
  {
   "cell_type": "code",
   "execution_count": 1,
   "metadata": {
    "id": "gnzKVHaINFri"
   },
   "outputs": [],
   "source": [
    "import tensorflow as tf"
   ]
  },
  {
   "cell_type": "code",
   "execution_count": 2,
   "metadata": {
    "id": "PuhRHgdNNPIe"
   },
   "outputs": [],
   "source": [
    "from tensorflow.keras.datasets import cifar10"
   ]
  },
  {
   "cell_type": "code",
   "execution_count": 3,
   "metadata": {
    "colab": {
     "base_uri": "https://localhost:8080/"
    },
    "id": "DT8HNqg0NWER",
    "outputId": "d12f741e-ebc3-417d-d5c6-26d30f3228a2"
   },
   "outputs": [
    {
     "name": "stdout",
     "output_type": "stream",
     "text": [
      "Downloading data from https://www.cs.toronto.edu/~kriz/cifar-10-python.tar.gz\n",
      "170500096/170498071 [==============================] - 6s 0us/step\n",
      "170508288/170498071 [==============================] - 6s 0us/step\n"
     ]
    }
   ],
   "source": [
    "(xtrain,ytrain),(xtest,ytest)=cifar10.load_data()"
   ]
  },
  {
   "cell_type": "code",
   "execution_count": 4,
   "metadata": {
    "colab": {
     "base_uri": "https://localhost:8080/"
    },
    "id": "ler1x15GNXO2",
    "outputId": "b1e0203f-1525-4d1c-f901-8af9d9c7f64e"
   },
   "outputs": [
    {
     "data": {
      "text/plain": [
       "(50000, 32, 32, 3)"
      ]
     },
     "execution_count": 4,
     "metadata": {},
     "output_type": "execute_result"
    }
   ],
   "source": [
    "xtrain.shape"
   ]
  },
  {
   "cell_type": "code",
   "execution_count": 5,
   "metadata": {
    "colab": {
     "base_uri": "https://localhost:8080/"
    },
    "id": "xKByE3HzNalK",
    "outputId": "df6f6e17-ea0e-446f-f727-91a5a0e5e0b0"
   },
   "outputs": [
    {
     "data": {
      "text/plain": [
       "(10000, 32, 32, 3)"
      ]
     },
     "execution_count": 5,
     "metadata": {},
     "output_type": "execute_result"
    }
   ],
   "source": [
    "xtest.shape"
   ]
  },
  {
   "cell_type": "code",
   "execution_count": 6,
   "metadata": {
    "id": "cEYj9O-QNdm-"
   },
   "outputs": [],
   "source": [
    "import numpy as np"
   ]
  },
  {
   "cell_type": "code",
   "execution_count": 7,
   "metadata": {
    "id": "Ja9mJc07NgTW"
   },
   "outputs": [],
   "source": [
    "from tensorflow.keras import Sequential\n",
    "from tensorflow.keras.layers import Flatten,Dense\n",
    "from tensorflow.keras.optimizers import Adam\n",
    "from tensorflow.keras.losses import SparseCategoricalCrossentropy"
   ]
  },
  {
   "cell_type": "code",
   "execution_count": 8,
   "metadata": {
    "id": "QgEymS9HNi9L"
   },
   "outputs": [],
   "source": [
    "model=Sequential()\n",
    "model.add(Flatten(input_shape=(32,32,3)))\n",
    "model.add(Dense(500,activation='relu'))\n",
    "model.add(Dense(350,activation='relu'))\n",
    "model.add(Dense(10,activation='softmax'))"
   ]
  },
  {
   "cell_type": "code",
   "execution_count": 9,
   "metadata": {
    "colab": {
     "base_uri": "https://localhost:8080/"
    },
    "id": "RoX-JOONNl77",
    "outputId": "a29e68a7-05dd-4d1a-bc12-5685dadca803"
   },
   "outputs": [
    {
     "name": "stdout",
     "output_type": "stream",
     "text": [
      "Model: \"sequential\"\n",
      "_________________________________________________________________\n",
      " Layer (type)                Output Shape              Param #   \n",
      "=================================================================\n",
      " flatten (Flatten)           (None, 3072)              0         \n",
      "                                                                 \n",
      " dense (Dense)               (None, 500)               1536500   \n",
      "                                                                 \n",
      " dense_1 (Dense)             (None, 350)               175350    \n",
      "                                                                 \n",
      " dense_2 (Dense)             (None, 10)                3510      \n",
      "                                                                 \n",
      "=================================================================\n",
      "Total params: 1,715,360\n",
      "Trainable params: 1,715,360\n",
      "Non-trainable params: 0\n",
      "_________________________________________________________________\n"
     ]
    }
   ],
   "source": [
    "model.summary()"
   ]
  },
  {
   "cell_type": "code",
   "execution_count": 13,
   "metadata": {
    "id": "8CvsKlEvNo1e"
   },
   "outputs": [],
   "source": [
    "model.compile(optimizer=Adam(),loss=SparseCategoricalCrossentropy(),metrics=['accuracy'])"
   ]
  },
  {
   "cell_type": "code",
   "execution_count": 14,
   "metadata": {
    "colab": {
     "base_uri": "https://localhost:8080/"
    },
    "id": "xzsuMeSTNskN",
    "outputId": "207ed99d-1515-44a7-f4b4-701fcef224cc"
   },
   "outputs": [
    {
     "name": "stdout",
     "output_type": "stream",
     "text": [
      "Epoch 1/18\n",
      "56/56 [==============================] - 9s 158ms/step - loss: 299.4157 - accuracy: 0.1463 - val_loss: 29.7757 - val_accuracy: 0.2130\n",
      "Epoch 2/18\n",
      "56/56 [==============================] - 8s 147ms/step - loss: 18.1108 - accuracy: 0.2200 - val_loss: 39.2420 - val_accuracy: 0.2024\n",
      "Epoch 3/18\n",
      "56/56 [==============================] - 8s 149ms/step - loss: 19.9994 - accuracy: 0.2136 - val_loss: 14.2424 - val_accuracy: 0.2278\n",
      "Epoch 4/18\n",
      "56/56 [==============================] - 8s 151ms/step - loss: 10.9855 - accuracy: 0.2323 - val_loss: 7.0074 - val_accuracy: 0.2478\n",
      "Epoch 5/18\n",
      "56/56 [==============================] - 8s 149ms/step - loss: 9.4095 - accuracy: 0.2281 - val_loss: 9.4017 - val_accuracy: 0.2333\n",
      "Epoch 6/18\n",
      "56/56 [==============================] - 8s 150ms/step - loss: 7.3843 - accuracy: 0.2329 - val_loss: 6.3203 - val_accuracy: 0.2121\n",
      "Epoch 7/18\n",
      "56/56 [==============================] - 8s 148ms/step - loss: 7.1987 - accuracy: 0.2256 - val_loss: 4.7514 - val_accuracy: 0.2484\n",
      "Epoch 8/18\n",
      "56/56 [==============================] - 8s 144ms/step - loss: 3.6891 - accuracy: 0.2673 - val_loss: 3.1659 - val_accuracy: 0.2760\n",
      "Epoch 9/18\n",
      "56/56 [==============================] - 9s 161ms/step - loss: 2.8700 - accuracy: 0.2797 - val_loss: 2.7400 - val_accuracy: 0.2876\n",
      "Epoch 10/18\n",
      "56/56 [==============================] - 8s 147ms/step - loss: 3.4023 - accuracy: 0.2577 - val_loss: 2.6224 - val_accuracy: 0.2863\n",
      "Epoch 11/18\n",
      "56/56 [==============================] - 8s 143ms/step - loss: 2.4899 - accuracy: 0.2911 - val_loss: 2.4059 - val_accuracy: 0.2955\n",
      "Epoch 12/18\n",
      "56/56 [==============================] - 8s 145ms/step - loss: 2.4156 - accuracy: 0.2957 - val_loss: 2.2662 - val_accuracy: 0.3078\n",
      "Epoch 13/18\n",
      "56/56 [==============================] - 8s 149ms/step - loss: 2.1170 - accuracy: 0.3209 - val_loss: 2.1531 - val_accuracy: 0.3128\n",
      "Epoch 14/18\n",
      "56/56 [==============================] - 8s 149ms/step - loss: 2.1039 - accuracy: 0.3168 - val_loss: 2.0842 - val_accuracy: 0.3205\n",
      "Epoch 15/18\n",
      "56/56 [==============================] - 8s 151ms/step - loss: 1.9779 - accuracy: 0.3372 - val_loss: 2.0315 - val_accuracy: 0.3163\n",
      "Epoch 16/18\n",
      "56/56 [==============================] - 8s 151ms/step - loss: 1.9402 - accuracy: 0.3422 - val_loss: 2.0095 - val_accuracy: 0.3290\n",
      "Epoch 17/18\n",
      "56/56 [==============================] - 8s 147ms/step - loss: 1.9246 - accuracy: 0.3440 - val_loss: 1.9167 - val_accuracy: 0.3394\n",
      "Epoch 18/18\n",
      "56/56 [==============================] - 8s 149ms/step - loss: 1.8781 - accuracy: 0.3552 - val_loss: 1.9305 - val_accuracy: 0.3397\n"
     ]
    }
   ],
   "source": [
    "t_hist=model.fit(xtrain,ytrain,validation_data=(xtest,ytest),epochs=18,batch_size=900)"
   ]
  },
  {
   "cell_type": "code",
   "execution_count": 15,
   "metadata": {
    "id": "8XKZ1qq_N7vl"
   },
   "outputs": [],
   "source": [
    "hist=t_hist.history"
   ]
  },
  {
   "cell_type": "code",
   "execution_count": 16,
   "metadata": {
    "colab": {
     "base_uri": "https://localhost:8080/"
    },
    "id": "GCe9YUa8PLCn",
    "outputId": "e5171b83-91ac-42d6-a40c-0355164c0d62"
   },
   "outputs": [
    {
     "data": {
      "text/plain": [
       "{'accuracy': [0.1463399976491928,\n",
       "  0.21998000144958496,\n",
       "  0.21356000006198883,\n",
       "  0.23228000104427338,\n",
       "  0.2281399965286255,\n",
       "  0.2328599989414215,\n",
       "  0.2255599945783615,\n",
       "  0.2672800123691559,\n",
       "  0.2796599864959717,\n",
       "  0.25773999094963074,\n",
       "  0.2910799980163574,\n",
       "  0.29572001099586487,\n",
       "  0.3209199905395508,\n",
       "  0.3167800009250641,\n",
       "  0.3372400104999542,\n",
       "  0.34224000573158264,\n",
       "  0.3439599871635437,\n",
       "  0.35519999265670776],\n",
       " 'loss': [299.41571044921875,\n",
       "  18.110795974731445,\n",
       "  19.999425888061523,\n",
       "  10.985530853271484,\n",
       "  9.40947151184082,\n",
       "  7.384301662445068,\n",
       "  7.19872522354126,\n",
       "  3.6891062259674072,\n",
       "  2.8699662685394287,\n",
       "  3.402320623397827,\n",
       "  2.489945888519287,\n",
       "  2.4155662059783936,\n",
       "  2.1169593334198,\n",
       "  2.1038920879364014,\n",
       "  1.9778791666030884,\n",
       "  1.9401681423187256,\n",
       "  1.9245970249176025,\n",
       "  1.8781393766403198],\n",
       " 'val_accuracy': [0.21299999952316284,\n",
       "  0.20239999890327454,\n",
       "  0.22779999673366547,\n",
       "  0.24779999256134033,\n",
       "  0.23330000042915344,\n",
       "  0.21209999918937683,\n",
       "  0.2484000027179718,\n",
       "  0.2759999930858612,\n",
       "  0.28760001063346863,\n",
       "  0.28630000352859497,\n",
       "  0.2955000102519989,\n",
       "  0.3077999949455261,\n",
       "  0.31279999017715454,\n",
       "  0.320499986410141,\n",
       "  0.31630000472068787,\n",
       "  0.32899999618530273,\n",
       "  0.3393999934196472,\n",
       "  0.33970001339912415],\n",
       " 'val_loss': [29.775678634643555,\n",
       "  39.2419548034668,\n",
       "  14.242353439331055,\n",
       "  7.00741720199585,\n",
       "  9.401729583740234,\n",
       "  6.320277690887451,\n",
       "  4.751397132873535,\n",
       "  3.1659176349639893,\n",
       "  2.740030527114868,\n",
       "  2.6223983764648438,\n",
       "  2.4058761596679688,\n",
       "  2.2661824226379395,\n",
       "  2.1531310081481934,\n",
       "  2.0841877460479736,\n",
       "  2.0315093994140625,\n",
       "  2.009472131729126,\n",
       "  1.9167355298995972,\n",
       "  1.9305068254470825]}"
      ]
     },
     "execution_count": 16,
     "metadata": {},
     "output_type": "execute_result"
    }
   ],
   "source": [
    "hist"
   ]
  },
  {
   "cell_type": "code",
   "execution_count": 19,
   "metadata": {
    "colab": {
     "base_uri": "https://localhost:8080/",
     "height": 299
    },
    "id": "P3hB7NgWPNc7",
    "outputId": "4cd12ecd-29a5-4f87-f378-38195bc26e98"
   },
   "outputs": [
    {
     "data": {
      "text/plain": [
       "Text(0.5, 1.0, 'loss graph')"
      ]
     },
     "execution_count": 19,
     "metadata": {},
     "output_type": "execute_result"
    },
    {
     "data": {
      "image/png": "[encoded data removed]",
      "text/plain": [
       "<Figure size 432x288 with 1 Axes>"
      ]
     },
     "metadata": {
      "needs_background": "light"
     },
     "output_type": "display_data"
    }
   ],
   "source": [
    "import matplotlib.pyplot as plt\n",
    "plt.plot(hist['loss'],label='loss',color='b')\n",
    "plt.plot(hist['val_loss'],label='val_loss',color='g')\n",
    "plt.title(\"loss graph\")"
   ]
  },
  {
   "cell_type": "code",
   "execution_count": 20,
   "metadata": {
    "colab": {
     "base_uri": "https://localhost:8080/",
     "height": 299
    },
    "id": "NA_XhrXRPXuH",
    "outputId": "77e98bd9-9825-40da-84f8-172e63aaec12"
   },
   "outputs": [
    {
     "data": {
      "text/plain": [
       "Text(0.5, 1.0, 'accuracy graph')"
      ]
     },
     "execution_count": 20,
     "metadata": {},
     "output_type": "execute_result"
    },
    {
     "data": {
      "image/png": "[encoded data removed]",
      "text/plain": [
       "<Figure size 432x288 with 1 Axes>"
      ]
     },
     "metadata": {
      "needs_background": "light"
     },
     "output_type": "display_data"
    }
   ],
   "source": [
    "plt.plot(hist['accuracy'],label='accuracy',color='b')\n",
    "plt.plot(hist['val_accuracy'],label='val_accuracy',color='g')\n",
    "plt.title(\"accuracy graph\")"
   ]
  },
  {
   "cell_type": "code",
   "execution_count": 26,
   "metadata": {
    "id": "emjgfGXaP_GT"
   },
   "outputs": [],
   "source": [
    "# plot confusion matrix\n",
    "#y_act=ytest\n",
    "y_predict=np.argmax(model.predict(xtest), axis=-1)\n",
    "from sklearn.metrics import confusion_matrix\n"
   ]
  },
  {
   "cell_type": "code",
   "execution_count": 27,
   "metadata": {
    "id": "jYw948B_QdzR"
   },
   "outputs": [],
   "source": [
    "cf=confusion_matrix(ytest,y_predict)"
   ]
  },
  {
   "cell_type": "code",
   "execution_count": 28,
   "metadata": {
    "colab": {
     "base_uri": "https://localhost:8080/"
    },
    "id": "4-Gv7OYZQnm4",
    "outputId": "a411a54d-1892-4f4d-bfd4-34bbb0bc73bb"
   },
   "outputs": [
    {
     "name": "stdout",
     "output_type": "stream",
     "text": [
      "Looking in indexes: https://pypi.org/simple, https://us-python.pkg.dev/colab-wheels/public/simple/\n",
      "Requirement already satisfied: mlxtend in /usr/local/lib/python3.7/dist-packages (0.14.0)\n",
      "Requirement already satisfied: numpy>=1.10.4 in /usr/local/lib/python3.7/dist-packages (from mlxtend) (1.21.6)\n",
      "Requirement already satisfied: matplotlib>=1.5.1 in /usr/local/lib/python3.7/dist-packages (from mlxtend) (3.2.2)\n",
      "Requirement already satisfied: scikit-learn>=0.18 in /usr/local/lib/python3.7/dist-packages (from mlxtend) (1.0.2)\n",
      "Requirement already satisfied: scipy>=0.17 in /usr/local/lib/python3.7/dist-packages (from mlxtend) (1.5.4)\n",
      "Requirement already satisfied: pandas>=0.17.1 in /usr/local/lib/python3.7/dist-packages (from mlxtend) (1.3.5)\n",
      "Requirement already satisfied: setuptools in /usr/local/lib/python3.7/dist-packages (from mlxtend) (57.4.0)\n",
      "Requirement already satisfied: cycler>=0.10 in /usr/local/lib/python3.7/dist-packages (from matplotlib>=1.5.1->mlxtend) (0.11.0)\n",
      "Requirement already satisfied: python-dateutil>=2.1 in /usr/local/lib/python3.7/dist-packages (from matplotlib>=1.5.1->mlxtend) (2.8.2)\n",
      "Requirement already satisfied: pyparsing!=2.0.4,!=2.1.2,!=2.1.6,>=2.0.1 in /usr/local/lib/python3.7/dist-packages (from matplotlib>=1.5.1->mlxtend) (3.0.9)\n",
      "Requirement already satisfied: kiwisolver>=1.0.1 in /usr/local/lib/python3.7/dist-packages (from matplotlib>=1.5.1->mlxtend) (1.4.3)\n",
      "Requirement already satisfied: typing-extensions in /usr/local/lib/python3.7/dist-packages (from kiwisolver>=1.0.1->matplotlib>=1.5.1->mlxtend) (4.1.1)\n",
      "Requirement already satisfied: pytz>=2017.3 in /usr/local/lib/python3.7/dist-packages (from pandas>=0.17.1->mlxtend) (2022.1)\n",
      "Requirement already satisfied: six>=1.5 in /usr/local/lib/python3.7/dist-packages (from python-dateutil>=2.1->matplotlib>=1.5.1->mlxtend) (1.15.0)\n",
      "Requirement already satisfied: threadpoolctl>=2.0.0 in /usr/local/lib/python3.7/dist-packages (from scikit-learn>=0.18->mlxtend) (3.1.0)\n",
      "Requirement already satisfied: joblib>=0.11 in /usr/local/lib/python3.7/dist-packages (from scikit-learn>=0.18->mlxtend) (1.1.0)\n"
     ]
    }
   ],
   "source": [
    "pip install mlxtend"
   ]
  },
  {
   "cell_type": "code",
   "execution_count": 38,
   "metadata": {
    "colab": {
     "base_uri": "https://localhost:8080/",
     "height": 316
    },
    "id": "NvlsamBzSN0D",
    "outputId": "6df9b5aa-edea-4a54-f856-108f0ba392c7"
   },
   "outputs": [
    {
     "data": {
      "text/plain": [
       "(<Figure size 432x288 with 1 Axes>,\n",
       " <matplotlib.axes._subplots.AxesSubplot at 0x7f84389c1f10>)"
      ]
     },
     "execution_count": 38,
     "metadata": {},
     "output_type": "execute_result"
    },
    {
     "data": {
      "image/png": "[encoded data removed]",
      "text/plain": [
       "<Figure size 432x288 with 1 Axes>"
      ]
     },
     "metadata": {
      "needs_background": "light"
     },
     "output_type": "display_data"
    }
   ],
   "source": [
    "from mlxtend.plotting import plot_confusion_matrix\n",
    "plot_confusion_matrix(cf)"
   ]
  },
  {
   "cell_type": "code",
   "execution_count": null,
   "metadata": {
    "id": "nGyrXGC0T1nR"
   },
   "outputs": [],
   "source": []
  }
 ],
 "metadata": {
  "colab": {
   "name": "CIFAR10 NEW.ipynb",
   "provenance": []
  },
  "kernelspec": {
   "display_name": "Python 3 (ipykernel)",
   "language": "python",
   "name": "python3"
  },
  "language_info": {
   "codemirror_mode": {
    "name": "ipython",
    "version": 3
   },
   "file_extension": ".py",
   "mimetype": "text/x-python",
   "name": "python",
   "nbconvert_exporter": "python",
   "pygments_lexer": "ipython3",
   "version": "3.9.7"
  }
 },
 "nbformat": 4,
 "nbformat_minor": 4
}
