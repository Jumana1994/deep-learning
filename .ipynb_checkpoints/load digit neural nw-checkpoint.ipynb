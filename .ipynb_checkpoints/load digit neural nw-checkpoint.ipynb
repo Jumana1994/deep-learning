{
 "cells": [
  {
   "cell_type": "code",
   "execution_count": 30,
   "id": "c33d8393-3967-4c2e-9707-5eac08706ad1",
   "metadata": {},
   "outputs": [],
   "source": [
    "import sklearn\n",
    "import numpy as np\n",
    "import pandas as pd\n",
    "import matplotlib.pyplot as plt\n",
    "from sklearn.datasets import load_digits\n",
    "data=load_digits()\n",
    "x=data['data']\n",
    "y=data['target']"
   ]
  },
  {
   "cell_type": "code",
   "execution_count": 31,
   "id": "98990392-0a5c-4ba2-bccf-5ce2670434e8",
   "metadata": {},
   "outputs": [],
   "source": [
    "import tensorflow"
   ]
  },
  {
   "cell_type": "code",
   "execution_count": 32,
   "id": "cb4d1d34-33fb-4bd3-8324-6c285c32fb4b",
   "metadata": {},
   "outputs": [],
   "source": [
    "from tensorflow.keras import Sequential\n",
    "from tensorflow.keras.layers import Flatten,Dense\n",
    "from tensorflow.keras.optimizers import Adam\n",
    "from tensorflow.keras.losses import MSE"
   ]
  },
  {
   "cell_type": "code",
   "execution_count": 33,
   "id": "36059893-fe16-4811-99f0-0d18736051b2",
   "metadata": {},
   "outputs": [],
   "source": [
    "model=Sequential()\n",
    "model.add(Flatten(input_shape=(64,)))\n",
    "model.add(Dense(100,activation='relu'))\n",
    "model.add(Dense(50,activation='relu'))\n",
    "model.add(Dense(25,activation='relu'))\n",
    "model.add(Dense(9,activation='softmax'))\n"
   ]
  },
  {
   "cell_type": "code",
   "execution_count": 34,
   "id": "c93ae195-a947-41a1-aee8-f9505a170fcf",
   "metadata": {},
   "outputs": [
    {
     "name": "stdout",
     "output_type": "stream",
     "text": [
      "Model: \"sequential_4\"\n",
      "_________________________________________________________________\n",
      " Layer (type)                Output Shape              Param #   \n",
      "=================================================================\n",
      " flatten_4 (Flatten)         (None, 64)                0         \n",
      "                                                                 \n",
      " dense_16 (Dense)            (None, 100)               6500      \n",
      "                                                                 \n",
      " dense_17 (Dense)            (None, 50)                5050      \n",
      "                                                                 \n",
      " dense_18 (Dense)            (None, 25)                1275      \n",
      "                                                                 \n",
      " dense_19 (Dense)            (None, 9)                 234       \n",
      "                                                                 \n",
      "=================================================================\n",
      "Total params: 13,059\n",
      "Trainable params: 13,059\n",
      "Non-trainable params: 0\n",
      "_________________________________________________________________\n"
     ]
    }
   ],
   "source": [
    "model.summary()"
   ]
  },
  {
   "cell_type": "code",
   "execution_count": 37,
   "id": "2128670f-9a63-4c42-ae4e-b0fa99d6db6f",
   "metadata": {},
   "outputs": [],
   "source": [
    "model.compile(optimizer=Adam(),loss='MSE',metrics=['accuracy'])"
   ]
  },
  {
   "cell_type": "code",
   "execution_count": 38,
   "id": "835b37c7-5368-48b6-a839-187b023c9ab8",
   "metadata": {},
   "outputs": [
    {
     "name": "stdout",
     "output_type": "stream",
     "text": [
      "Epoch 1/10\n",
      "90/90 [==============================] - 1s 2ms/step - loss: 27.3943 - accuracy: 0.0562\n",
      "Epoch 2/10\n",
      "90/90 [==============================] - 0s 2ms/step - loss: 27.3882 - accuracy: 0.0712\n",
      "Epoch 3/10\n",
      "90/90 [==============================] - 0s 2ms/step - loss: 27.3877 - accuracy: 0.0846\n",
      "Epoch 4/10\n",
      "90/90 [==============================] - 0s 2ms/step - loss: 27.3875 - accuracy: 0.0762\n",
      "Epoch 5/10\n",
      "90/90 [==============================] - 0s 2ms/step - loss: 27.3874 - accuracy: 0.0918\n",
      "Epoch 6/10\n",
      "90/90 [==============================] - 0s 3ms/step - loss: 27.3874 - accuracy: 0.0851\n",
      "Epoch 7/10\n",
      "90/90 [==============================] - 0s 2ms/step - loss: 27.3873 - accuracy: 0.0946\n",
      "Epoch 8/10\n",
      "90/90 [==============================] - 0s 2ms/step - loss: 27.3873 - accuracy: 0.1096\n",
      "Epoch 9/10\n",
      "90/90 [==============================] - 0s 3ms/step - loss: 27.3873 - accuracy: 0.0907\n",
      "Epoch 10/10\n",
      "90/90 [==============================] - 0s 3ms/step - loss: 27.3873 - accuracy: 0.0807\n"
     ]
    },
    {
     "data": {
      "text/plain": [
       "<keras.callbacks.History at 0x824b3af880>"
      ]
     },
     "execution_count": 38,
     "metadata": {},
     "output_type": "execute_result"
    }
   ],
   "source": [
    "model.fit(x,y,epochs=10,verbose=1,batch_size=20)"
   ]
  },
  {
   "cell_type": "code",
   "execution_count": null,
   "id": "380a9d83-da9f-44ee-8f54-355e112cc46e",
   "metadata": {},
   "outputs": [],
   "source": []
  }
 ],
 "metadata": {
  "kernelspec": {
   "display_name": "Python 3 (ipykernel)",
   "language": "python",
   "name": "python3"
  },
  "language_info": {
   "codemirror_mode": {
    "name": "ipython",
    "version": 3
   },
   "file_extension": ".py",
   "mimetype": "text/x-python",
   "name": "python",
   "nbconvert_exporter": "python",
   "pygments_lexer": "ipython3",
   "version": "3.9.7"
  }
 },
 "nbformat": 4,
 "nbformat_minor": 5
}
