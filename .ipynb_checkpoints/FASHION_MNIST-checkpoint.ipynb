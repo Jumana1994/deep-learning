{
 "cells": [
  {
   "cell_type": "code",
   "execution_count": 4,
   "metadata": {
    "id": "RXeGUXnOYLHB"
   },
   "outputs": [],
   "source": [
    "import tensorflow as tf\n",
    "from tensorflow.keras.datasets import fashion_mnist\n",
    "import numpy as np"
   ]
  },
  {
   "cell_type": "code",
   "execution_count": 5,
   "metadata": {
    "colab": {
     "base_uri": "https://localhost:8080/"
    },
    "id": "1h6gntAkYeT_",
    "outputId": "b241ed65-f0d6-433a-9102-63d3dde3a20e"
   },
   "outputs": [
    {
     "name": "stdout",
     "output_type": "stream",
     "text": [
      "Downloading data from https://storage.googleapis.com/tensorflow/tf-keras-datasets/train-labels-idx1-ubyte.gz\n",
      "32768/29515 [=================================] - 0s 0us/step\n",
      "40960/29515 [=========================================] - 0s 0us/step\n",
      "Downloading data from https://storage.googleapis.com/tensorflow/tf-keras-datasets/train-images-idx3-ubyte.gz\n",
      "26427392/26421880 [==============================] - 0s 0us/step\n",
      "26435584/26421880 [==============================] - 0s 0us/step\n",
      "Downloading data from https://storage.googleapis.com/tensorflow/tf-keras-datasets/t10k-labels-idx1-ubyte.gz\n",
      "16384/5148 [===============================================================================================] - 0s 0us/step\n",
      "Downloading data from https://storage.googleapis.com/tensorflow/tf-keras-datasets/t10k-images-idx3-ubyte.gz\n",
      "4423680/4422102 [==============================] - 0s 0us/step\n",
      "4431872/4422102 [==============================] - 0s 0us/step\n"
     ]
    }
   ],
   "source": [
    "data=fashion_mnist.load_data()"
   ]
  },
  {
   "cell_type": "code",
   "execution_count": 6,
   "metadata": {
    "id": "Xj820zspZFVU"
   },
   "outputs": [],
   "source": [
    "x,y=data"
   ]
  },
  {
   "cell_type": "code",
   "execution_count": 7,
   "metadata": {
    "id": "7c1cvCU7ZOBL"
   },
   "outputs": [],
   "source": [
    "(xtrain,ytrain)=x\n",
    "(xtest,ytest)=y"
   ]
  },
  {
   "cell_type": "code",
   "execution_count": 11,
   "metadata": {
    "colab": {
     "base_uri": "https://localhost:8080/"
    },
    "id": "ZPgcv-tOZaHR",
    "outputId": "c684a5a0-aa13-4b87-cf5e-1b8ebe67009e"
   },
   "outputs": [
    {
     "data": {
      "text/plain": [
       "(60000, 28, 28)"
      ]
     },
     "execution_count": 11,
     "metadata": {},
     "output_type": "execute_result"
    }
   ],
   "source": [
    "xtrain.shape"
   ]
  },
  {
   "cell_type": "code",
   "execution_count": 12,
   "metadata": {
    "colab": {
     "base_uri": "https://localhost:8080/"
    },
    "id": "l3RbSVKxZe4-",
    "outputId": "904a17e1-3ac3-4eba-95c8-01f1c8f197d3"
   },
   "outputs": [
    {
     "data": {
      "text/plain": [
       "(10000, 28, 28)"
      ]
     },
     "execution_count": 12,
     "metadata": {},
     "output_type": "execute_result"
    }
   ],
   "source": [
    "xtest.shape"
   ]
  },
  {
   "cell_type": "code",
   "execution_count": 13,
   "metadata": {
    "id": "VnK-z69qZvPF"
   },
   "outputs": [],
   "source": [
    "from tensorflow.keras import Sequential\n",
    "from tensorflow.keras.layers import Flatten,Dense\n",
    "from tensorflow.keras.optimizers import Adam\n",
    "from tensorflow.keras.losses import SparseCategoricalCrossentropy"
   ]
  },
  {
   "cell_type": "code",
   "execution_count": 14,
   "metadata": {
    "id": "lr0yqhn6au8T"
   },
   "outputs": [],
   "source": [
    "model=Sequential()\n",
    "model.add(Flatten(input_shape=(28,28)))\n",
    "model.add(Dense(600,activation='relu'))\n",
    "model.add(Dense(400,activation='relu'))\n",
    "model.add(Dense(10,activation='softmax'))"
   ]
  },
  {
   "cell_type": "code",
   "execution_count": 16,
   "metadata": {
    "colab": {
     "base_uri": "https://localhost:8080/"
    },
    "id": "FjzgrlDPbpi0",
    "outputId": "2ac05533-7426-4975-867d-59f7fd5b4144"
   },
   "outputs": [
    {
     "name": "stdout",
     "output_type": "stream",
     "text": [
      "Model: \"sequential\"\n",
      "_________________________________________________________________\n",
      " Layer (type)                Output Shape              Param #   \n",
      "=================================================================\n",
      " flatten (Flatten)           (None, 784)               0         \n",
      "                                                                 \n",
      " dense (Dense)               (None, 600)               471000    \n",
      "                                                                 \n",
      " dense_1 (Dense)             (None, 400)               240400    \n",
      "                                                                 \n",
      " dense_2 (Dense)             (None, 10)                4010      \n",
      "                                                                 \n",
      "=================================================================\n",
      "Total params: 715,410\n",
      "Trainable params: 715,410\n",
      "Non-trainable params: 0\n",
      "_________________________________________________________________\n"
     ]
    }
   ],
   "source": [
    "model.summary()"
   ]
  },
  {
   "cell_type": "code",
   "execution_count": 18,
   "metadata": {
    "id": "gFcLOdeQbLaT"
   },
   "outputs": [],
   "source": [
    "model.compile(optimizer=Adam(),loss=SparseCategoricalCrossentropy(),metrics=['accuracy'])"
   ]
  },
  {
   "cell_type": "code",
   "execution_count": 19,
   "metadata": {
    "colab": {
     "base_uri": "https://localhost:8080/"
    },
    "id": "HMkUGymQblsM",
    "outputId": "65b95564-cf3f-4eee-a26a-908079556ba7"
   },
   "outputs": [
    {
     "name": "stdout",
     "output_type": "stream",
     "text": [
      "Epoch 1/20\n",
      "120/120 [==============================] - 5s 40ms/step - loss: 11.3794 - accuracy: 0.7389 - val_loss: 1.7881 - val_accuracy: 0.8017\n",
      "Epoch 2/20\n",
      "120/120 [==============================] - 5s 39ms/step - loss: 1.2381 - accuracy: 0.8163 - val_loss: 1.3372 - val_accuracy: 0.7850\n",
      "Epoch 3/20\n",
      "120/120 [==============================] - 5s 38ms/step - loss: 0.7885 - accuracy: 0.8352 - val_loss: 0.8040 - val_accuracy: 0.8316\n",
      "Epoch 4/20\n",
      "120/120 [==============================] - 5s 39ms/step - loss: 0.5776 - accuracy: 0.8521 - val_loss: 0.6879 - val_accuracy: 0.8400\n",
      "Epoch 5/20\n",
      "120/120 [==============================] - 5s 38ms/step - loss: 0.4724 - accuracy: 0.8650 - val_loss: 0.6220 - val_accuracy: 0.8453\n",
      "Epoch 6/20\n",
      "120/120 [==============================] - 5s 39ms/step - loss: 0.4037 - accuracy: 0.8746 - val_loss: 0.6720 - val_accuracy: 0.8346\n",
      "Epoch 7/20\n",
      "120/120 [==============================] - 5s 38ms/step - loss: 0.3623 - accuracy: 0.8825 - val_loss: 0.5781 - val_accuracy: 0.8482\n",
      "Epoch 8/20\n",
      "120/120 [==============================] - 5s 38ms/step - loss: 0.3264 - accuracy: 0.8905 - val_loss: 0.6129 - val_accuracy: 0.8328\n",
      "Epoch 9/20\n",
      "120/120 [==============================] - 5s 39ms/step - loss: 0.3059 - accuracy: 0.8929 - val_loss: 0.5622 - val_accuracy: 0.8550\n",
      "Epoch 10/20\n",
      "120/120 [==============================] - 5s 38ms/step - loss: 0.2985 - accuracy: 0.8965 - val_loss: 0.6466 - val_accuracy: 0.8379\n",
      "Epoch 11/20\n",
      "120/120 [==============================] - 5s 38ms/step - loss: 0.2870 - accuracy: 0.8996 - val_loss: 0.5334 - val_accuracy: 0.8562\n",
      "Epoch 12/20\n",
      "120/120 [==============================] - 5s 38ms/step - loss: 0.2498 - accuracy: 0.9099 - val_loss: 0.5312 - val_accuracy: 0.8612\n",
      "Epoch 13/20\n",
      "120/120 [==============================] - 5s 38ms/step - loss: 0.2549 - accuracy: 0.9094 - val_loss: 0.5550 - val_accuracy: 0.8556\n",
      "Epoch 14/20\n",
      "120/120 [==============================] - 5s 38ms/step - loss: 0.2341 - accuracy: 0.9151 - val_loss: 0.5239 - val_accuracy: 0.8631\n",
      "Epoch 15/20\n",
      "120/120 [==============================] - 5s 38ms/step - loss: 0.2330 - accuracy: 0.9154 - val_loss: 0.5504 - val_accuracy: 0.8549\n",
      "Epoch 16/20\n",
      "120/120 [==============================] - 5s 38ms/step - loss: 0.2282 - accuracy: 0.9165 - val_loss: 0.5595 - val_accuracy: 0.8580\n",
      "Epoch 17/20\n",
      "120/120 [==============================] - 5s 38ms/step - loss: 0.2356 - accuracy: 0.9152 - val_loss: 0.5642 - val_accuracy: 0.8535\n",
      "Epoch 18/20\n",
      "120/120 [==============================] - 6s 49ms/step - loss: 0.2249 - accuracy: 0.9182 - val_loss: 0.5485 - val_accuracy: 0.8552\n",
      "Epoch 19/20\n",
      "120/120 [==============================] - 5s 39ms/step - loss: 0.2297 - accuracy: 0.9173 - val_loss: 0.5485 - val_accuracy: 0.8599\n",
      "Epoch 20/20\n",
      "120/120 [==============================] - 5s 39ms/step - loss: 0.2213 - accuracy: 0.9198 - val_loss: 0.5116 - val_accuracy: 0.8649\n"
     ]
    }
   ],
   "source": [
    "t_hist=model.fit(xtrain,ytrain,epochs=20,validation_data=(xtest,ytest),batch_size=500)"
   ]
  },
  {
   "cell_type": "code",
   "execution_count": 20,
   "metadata": {
    "id": "tMiR0AzlcBuz"
   },
   "outputs": [],
   "source": [
    "hist=t_hist.history"
   ]
  },
  {
   "cell_type": "code",
   "execution_count": 21,
   "metadata": {
    "colab": {
     "base_uri": "https://localhost:8080/"
    },
    "id": "3K-bLwImcuFE",
    "outputId": "9cefb04f-d09d-4861-f782-29f49264e786"
   },
   "outputs": [
    {
     "data": {
      "text/plain": [
       "{'accuracy': [0.7389166951179504,\n",
       "  0.8162500262260437,\n",
       "  0.835183322429657,\n",
       "  0.8521166443824768,\n",
       "  0.864983320236206,\n",
       "  0.8746166825294495,\n",
       "  0.8824999928474426,\n",
       "  0.8905333280563354,\n",
       "  0.8928999900817871,\n",
       "  0.8964666724205017,\n",
       "  0.899649977684021,\n",
       "  0.9099000096321106,\n",
       "  0.909416675567627,\n",
       "  0.915066659450531,\n",
       "  0.9153833389282227,\n",
       "  0.916450023651123,\n",
       "  0.9151833057403564,\n",
       "  0.9181666374206543,\n",
       "  0.9172833561897278,\n",
       "  0.9198166728019714],\n",
       " 'loss': [11.379427909851074,\n",
       "  1.23807954788208,\n",
       "  0.7885086536407471,\n",
       "  0.5775960087776184,\n",
       "  0.4724121391773224,\n",
       "  0.4037320017814636,\n",
       "  0.3622717559337616,\n",
       "  0.3263828754425049,\n",
       "  0.30592870712280273,\n",
       "  0.29851824045181274,\n",
       "  0.28703922033309937,\n",
       "  0.24978846311569214,\n",
       "  0.2548876702785492,\n",
       "  0.2340819239616394,\n",
       "  0.23304586112499237,\n",
       "  0.22817744314670563,\n",
       "  0.23560212552547455,\n",
       "  0.22494925558567047,\n",
       "  0.22970861196517944,\n",
       "  0.22127178311347961],\n",
       " 'val_accuracy': [0.8016999959945679,\n",
       "  0.7850000262260437,\n",
       "  0.83160001039505,\n",
       "  0.8399999737739563,\n",
       "  0.845300018787384,\n",
       "  0.8345999717712402,\n",
       "  0.8482000231742859,\n",
       "  0.8327999711036682,\n",
       "  0.8550000190734863,\n",
       "  0.8378999829292297,\n",
       "  0.8561999797821045,\n",
       "  0.8611999750137329,\n",
       "  0.8555999994277954,\n",
       "  0.863099992275238,\n",
       "  0.8549000024795532,\n",
       "  0.8579999804496765,\n",
       "  0.8535000085830688,\n",
       "  0.8551999926567078,\n",
       "  0.8598999977111816,\n",
       "  0.8648999929428101],\n",
       " 'val_loss': [1.788145661354065,\n",
       "  1.3371762037277222,\n",
       "  0.803981363773346,\n",
       "  0.6878729462623596,\n",
       "  0.621968686580658,\n",
       "  0.6719595193862915,\n",
       "  0.5780718922615051,\n",
       "  0.6128910779953003,\n",
       "  0.5621522665023804,\n",
       "  0.6466149091720581,\n",
       "  0.5334334969520569,\n",
       "  0.5311877727508545,\n",
       "  0.555010199546814,\n",
       "  0.5238848328590393,\n",
       "  0.5503554940223694,\n",
       "  0.5594581365585327,\n",
       "  0.564246416091919,\n",
       "  0.5485471487045288,\n",
       "  0.5485081672668457,\n",
       "  0.5115963220596313]}"
      ]
     },
     "execution_count": 21,
     "metadata": {},
     "output_type": "execute_result"
    }
   ],
   "source": [
    "hist"
   ]
  },
  {
   "cell_type": "code",
   "execution_count": 22,
   "metadata": {
    "colab": {
     "base_uri": "https://localhost:8080/",
     "height": 299
    },
    "id": "-M6WEaYncvvr",
    "outputId": "d954ac92-6fed-4cab-f16d-b8f7721855c0"
   },
   "outputs": [
    {
     "data": {
      "text/plain": [
       "Text(0.5, 1.0, 'loss graph')"
      ]
     },
     "execution_count": 22,
     "metadata": {},
     "output_type": "execute_result"
    },
    {
     "data": {
      "image/png": "[encoded data removed]",
      "text/plain": [
       "<Figure size 432x288 with 1 Axes>"
      ]
     },
     "metadata": {
      "needs_background": "light"
     },
     "output_type": "display_data"
    }
   ],
   "source": [
    "import matplotlib.pyplot as plt\n",
    "plt.plot(hist['loss'],label='loss',color='b')\n",
    "plt.plot(hist['val_loss'],label='val_loss',color='g')\n",
    "plt.title('loss graph')"
   ]
  },
  {
   "cell_type": "code",
   "execution_count": 23,
   "metadata": {
    "colab": {
     "base_uri": "https://localhost:8080/",
     "height": 299
    },
    "id": "APwjHggzdp9R",
    "outputId": "90e4efe8-431c-41fa-b0d0-ae438f248cbe"
   },
   "outputs": [
    {
     "data": {
      "text/plain": [
       "Text(0.5, 1.0, 'accuracy graph')"
      ]
     },
     "execution_count": 23,
     "metadata": {},
     "output_type": "execute_result"
    },
    {
     "data": {
      "image/png": "[encoded data removed]",
      "text/plain": [
       "<Figure size 432x288 with 1 Axes>"
      ]
     },
     "metadata": {
      "needs_background": "light"
     },
     "output_type": "display_data"
    }
   ],
   "source": [
    "plt.plot(hist['accuracy'],label='accuracy',color='b')\n",
    "plt.plot(hist['val_accuracy'],label='val_accuracy',color='g')\n",
    "plt.title('accuracy graph')"
   ]
  },
  {
   "cell_type": "code",
   "execution_count": 24,
   "metadata": {
    "id": "mp19LHNSd2j1"
   },
   "outputs": [],
   "source": [
    "# confusion matrix\n",
    "y_act=ytest\n",
    "y_predict=np.argmax(model.predict(xtest), axis=-1)\n",
    "from sklearn.metrics import confusion_matrix"
   ]
  },
  {
   "cell_type": "code",
   "execution_count": 25,
   "metadata": {
    "id": "FKU4csV9eO0o"
   },
   "outputs": [],
   "source": [
    "cf=confusion_matrix(ytest,y_predict)"
   ]
  },
  {
   "cell_type": "code",
   "execution_count": 26,
   "metadata": {
    "id": "rifealVKeS1Y"
   },
   "outputs": [],
   "source": [
    "from mlxtend.plotting import plot_confusion_matrix"
   ]
  },
  {
   "cell_type": "code",
   "execution_count": 27,
   "metadata": {
    "colab": {
     "base_uri": "https://localhost:8080/",
     "height": 316
    },
    "id": "-9zB4CqSeeG-",
    "outputId": "f6347a78-1c95-450e-9d92-b9f5b6050ce5"
   },
   "outputs": [
    {
     "data": {
      "text/plain": [
       "(<Figure size 432x288 with 1 Axes>,\n",
       " <matplotlib.axes._subplots.AxesSubplot at 0x7f3a58077550>)"
      ]
     },
     "execution_count": 27,
     "metadata": {},
     "output_type": "execute_result"
    },
    {
     "data": {
      "image/png": "[encoded data removed]",
      "text/plain": [
       "<Figure size 432x288 with 1 Axes>"
      ]
     },
     "metadata": {
      "needs_background": "light"
     },
     "output_type": "display_data"
    }
   ],
   "source": [
    "plot_confusion_matrix(cf)"
   ]
  },
  {
   "cell_type": "code",
   "execution_count": null,
   "metadata": {
    "id": "bpc5lKthelMv"
   },
   "outputs": [],
   "source": []
  }
 ],
 "metadata": {
  "colab": {
   "collapsed_sections": [],
   "name": "FASHION MNIST.ipynb",
   "provenance": []
  },
  "kernelspec": {
   "display_name": "Python 3 (ipykernel)",
   "language": "python",
   "name": "python3"
  },
  "language_info": {
   "codemirror_mode": {
    "name": "ipython",
    "version": 3
   },
   "file_extension": ".py",
   "mimetype": "text/x-python",
   "name": "python",
   "nbconvert_exporter": "python",
   "pygments_lexer": "ipython3",
   "version": "3.9.7"
  }
 },
 "nbformat": 4,
 "nbformat_minor": 4
}
